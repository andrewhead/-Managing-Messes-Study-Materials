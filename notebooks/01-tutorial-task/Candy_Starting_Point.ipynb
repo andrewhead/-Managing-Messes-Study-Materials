{
 "cells": [
  {
   "cell_type": "code",
   "execution_count": 1,
   "metadata": {},
   "outputs": [],
   "source": [
    "import csv\n",
    "import tabulate\n",
    "from IPython.core.display import HTML\n",
    "import pprint"
   ]
  },
  {
   "cell_type": "code",
   "execution_count": 2,
   "metadata": {},
   "outputs": [
    {
     "name": "stdout",
     "output_type": "stream",
     "text": [
      "candy-data.csv\n"
     ]
    }
   ],
   "source": [
    "%ls input/"
   ]
  },
  {
   "cell_type": "code",
   "execution_count": 3,
   "metadata": {},
   "outputs": [],
   "source": [
    "def display_rows(rows, n=None):\n",
    "    if n != None:\n",
    "        rows = rows[:n]\n",
    "    display(HTML(tabulate.tabulate(rows, headers=\"keys\", tablefmt=\"html\")))"
   ]
  },
  {
   "cell_type": "code",
   "execution_count": 4,
   "metadata": {},
   "outputs": [],
   "source": [
    "def sortby(rows, keyname):\n",
    "    return sorted(rows, key=keyname)"
   ]
  },
  {
   "cell_type": "code",
   "execution_count": 5,
   "metadata": {},
   "outputs": [],
   "source": [
    "candy_file = open('input/candy-data.csv')\n",
    "reader = csv.DictReader(candy_file)\n",
    "candy_data = [row for row in reader]"
   ]
  },
  {
   "cell_type": "code",
   "execution_count": 6,
   "metadata": {},
   "outputs": [
    {
     "name": "stdout",
     "output_type": "stream",
     "text": [
      "OrderedDict([('competitorname', '100 Grand'),\n",
      "             ('chocolate', '1'),\n",
      "             ('fruity', '0'),\n",
      "             ('caramel', '1'),\n",
      "             ('peanutyalmondy', '0'),\n",
      "             ('nougat', '0'),\n",
      "             ('crispedricewafer', '1'),\n",
      "             ('hard', '0'),\n",
      "             ('bar', '1'),\n",
      "             ('pluribus', '0'),\n",
      "             ('sugarpercent', '.73199999'),\n",
      "             ('pricepercent', '.86000001'),\n",
      "             ('winpercent', '66.971725')])\n"
     ]
    }
   ],
   "source": [
    "pprint.pprint(candy_data[0])"
   ]
  },
  {
   "cell_type": "code",
   "execution_count": 7,
   "metadata": {},
   "outputs": [
    {
     "data": {
      "text/html": [
       "<table>\n",
       "<thead>\n",
       "<tr><th>competitorname  </th><th style=\"text-align: right;\">  chocolate</th><th style=\"text-align: right;\">  fruity</th><th style=\"text-align: right;\">  caramel</th><th style=\"text-align: right;\">  peanutyalmondy</th><th style=\"text-align: right;\">  nougat</th><th style=\"text-align: right;\">  crispedricewafer</th><th style=\"text-align: right;\">  hard</th><th style=\"text-align: right;\">  bar</th><th style=\"text-align: right;\">  pluribus</th><th style=\"text-align: right;\">  sugarpercent</th><th style=\"text-align: right;\">  pricepercent</th><th style=\"text-align: right;\">  winpercent</th></tr>\n",
       "</thead>\n",
       "<tbody>\n",
       "<tr><td>100 Grand       </td><td style=\"text-align: right;\">          1</td><td style=\"text-align: right;\">       0</td><td style=\"text-align: right;\">        1</td><td style=\"text-align: right;\">               0</td><td style=\"text-align: right;\">       0</td><td style=\"text-align: right;\">                 1</td><td style=\"text-align: right;\">     0</td><td style=\"text-align: right;\">    1</td><td style=\"text-align: right;\">         0</td><td style=\"text-align: right;\">         0.732</td><td style=\"text-align: right;\">         0.86 </td><td style=\"text-align: right;\">     66.9717</td></tr>\n",
       "<tr><td>3 Musketeers    </td><td style=\"text-align: right;\">          1</td><td style=\"text-align: right;\">       0</td><td style=\"text-align: right;\">        0</td><td style=\"text-align: right;\">               0</td><td style=\"text-align: right;\">       1</td><td style=\"text-align: right;\">                 0</td><td style=\"text-align: right;\">     0</td><td style=\"text-align: right;\">    1</td><td style=\"text-align: right;\">         0</td><td style=\"text-align: right;\">         0.604</td><td style=\"text-align: right;\">         0.511</td><td style=\"text-align: right;\">     67.6029</td></tr>\n",
       "<tr><td>One dime        </td><td style=\"text-align: right;\">          0</td><td style=\"text-align: right;\">       0</td><td style=\"text-align: right;\">        0</td><td style=\"text-align: right;\">               0</td><td style=\"text-align: right;\">       0</td><td style=\"text-align: right;\">                 0</td><td style=\"text-align: right;\">     0</td><td style=\"text-align: right;\">    0</td><td style=\"text-align: right;\">         0</td><td style=\"text-align: right;\">         0.011</td><td style=\"text-align: right;\">         0.116</td><td style=\"text-align: right;\">     32.2611</td></tr>\n",
       "<tr><td>One quarter     </td><td style=\"text-align: right;\">          0</td><td style=\"text-align: right;\">       0</td><td style=\"text-align: right;\">        0</td><td style=\"text-align: right;\">               0</td><td style=\"text-align: right;\">       0</td><td style=\"text-align: right;\">                 0</td><td style=\"text-align: right;\">     0</td><td style=\"text-align: right;\">    0</td><td style=\"text-align: right;\">         0</td><td style=\"text-align: right;\">         0.011</td><td style=\"text-align: right;\">         0.511</td><td style=\"text-align: right;\">     46.1165</td></tr>\n",
       "<tr><td>Air Heads       </td><td style=\"text-align: right;\">          0</td><td style=\"text-align: right;\">       1</td><td style=\"text-align: right;\">        0</td><td style=\"text-align: right;\">               0</td><td style=\"text-align: right;\">       0</td><td style=\"text-align: right;\">                 0</td><td style=\"text-align: right;\">     0</td><td style=\"text-align: right;\">    0</td><td style=\"text-align: right;\">         0</td><td style=\"text-align: right;\">         0.906</td><td style=\"text-align: right;\">         0.511</td><td style=\"text-align: right;\">     52.3415</td></tr>\n",
       "</tbody>\n",
       "</table>"
      ],
      "text/plain": [
       "<IPython.core.display.HTML object>"
      ]
     },
     "metadata": {},
     "output_type": "display_data"
    }
   ],
   "source": [
    "display_rows(candy_data, 5)"
   ]
  },
  {
   "cell_type": "code",
   "execution_count": 8,
   "metadata": {},
   "outputs": [
    {
     "data": {
      "text/html": [
       "<table>\n",
       "<thead>\n",
       "<tr><th>competitorname          </th><th style=\"text-align: right;\">  chocolate</th><th style=\"text-align: right;\">  fruity</th><th style=\"text-align: right;\">  caramel</th><th style=\"text-align: right;\">  peanutyalmondy</th><th style=\"text-align: right;\">  nougat</th><th style=\"text-align: right;\">  crispedricewafer</th><th style=\"text-align: right;\">  hard</th><th style=\"text-align: right;\">  bar</th><th style=\"text-align: right;\">  pluribus</th><th style=\"text-align: right;\">  sugarpercent</th><th style=\"text-align: right;\">  pricepercent</th><th style=\"text-align: right;\">  winpercent</th></tr>\n",
       "</thead>\n",
       "<tbody>\n",
       "<tr><td>Nik L Nip               </td><td style=\"text-align: right;\">          0</td><td style=\"text-align: right;\">       1</td><td style=\"text-align: right;\">        0</td><td style=\"text-align: right;\">               0</td><td style=\"text-align: right;\">       0</td><td style=\"text-align: right;\">                 0</td><td style=\"text-align: right;\">     0</td><td style=\"text-align: right;\">    0</td><td style=\"text-align: right;\">         1</td><td style=\"text-align: right;\">         0.197</td><td style=\"text-align: right;\">         0.976</td><td style=\"text-align: right;\">     22.4453</td></tr>\n",
       "<tr><td>Nestle Smarties         </td><td style=\"text-align: right;\">          1</td><td style=\"text-align: right;\">       0</td><td style=\"text-align: right;\">        0</td><td style=\"text-align: right;\">               0</td><td style=\"text-align: right;\">       0</td><td style=\"text-align: right;\">                 0</td><td style=\"text-align: right;\">     0</td><td style=\"text-align: right;\">    0</td><td style=\"text-align: right;\">         1</td><td style=\"text-align: right;\">         0.267</td><td style=\"text-align: right;\">         0.976</td><td style=\"text-align: right;\">     37.8872</td></tr>\n",
       "<tr><td>Ring pop                </td><td style=\"text-align: right;\">          0</td><td style=\"text-align: right;\">       1</td><td style=\"text-align: right;\">        0</td><td style=\"text-align: right;\">               0</td><td style=\"text-align: right;\">       0</td><td style=\"text-align: right;\">                 0</td><td style=\"text-align: right;\">     1</td><td style=\"text-align: right;\">    0</td><td style=\"text-align: right;\">         0</td><td style=\"text-align: right;\">         0.732</td><td style=\"text-align: right;\">         0.965</td><td style=\"text-align: right;\">     35.2908</td></tr>\n",
       "<tr><td>HersheyÕs Krackel       </td><td style=\"text-align: right;\">          1</td><td style=\"text-align: right;\">       0</td><td style=\"text-align: right;\">        0</td><td style=\"text-align: right;\">               0</td><td style=\"text-align: right;\">       0</td><td style=\"text-align: right;\">                 1</td><td style=\"text-align: right;\">     0</td><td style=\"text-align: right;\">    1</td><td style=\"text-align: right;\">         0</td><td style=\"text-align: right;\">         0.43 </td><td style=\"text-align: right;\">         0.918</td><td style=\"text-align: right;\">     62.2845</td></tr>\n",
       "<tr><td>HersheyÕs Milk Chocolate</td><td style=\"text-align: right;\">          1</td><td style=\"text-align: right;\">       0</td><td style=\"text-align: right;\">        0</td><td style=\"text-align: right;\">               0</td><td style=\"text-align: right;\">       0</td><td style=\"text-align: right;\">                 0</td><td style=\"text-align: right;\">     0</td><td style=\"text-align: right;\">    1</td><td style=\"text-align: right;\">         0</td><td style=\"text-align: right;\">         0.43 </td><td style=\"text-align: right;\">         0.918</td><td style=\"text-align: right;\">     56.4905</td></tr>\n",
       "</tbody>\n",
       "</table>"
      ],
      "text/plain": [
       "<IPython.core.display.HTML object>"
      ]
     },
     "metadata": {},
     "output_type": "display_data"
    }
   ],
   "source": [
    "display_rows(sorted(candy_data, key=lambda i: i[\"pricepercent\"], reverse=True), 5)"
   ]
  },
  {
   "cell_type": "code",
   "execution_count": null,
   "metadata": {},
   "outputs": [],
   "source": []
  }
 ],
 "metadata": {
  "gathered": true,
  "gatheringId": "5a99d0d12e1947cb8c40dd34f0af66b8",
  "kernelspec": {
   "display_name": "Python 3",
   "language": "python",
   "name": "python3"
  },
  "language_info": {
   "codemirror_mode": {
    "name": "ipython",
    "version": 3
   },
   "file_extension": ".py",
   "mimetype": "text/x-python",
   "name": "python",
   "nbconvert_exporter": "python",
   "pygments_lexer": "ipython3",
   "version": "3.6.6"
  }
 },
 "nbformat": 4,
 "nbformat_minor": 2
}
