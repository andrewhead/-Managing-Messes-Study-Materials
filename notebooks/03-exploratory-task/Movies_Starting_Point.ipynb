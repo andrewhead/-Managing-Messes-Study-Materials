{
 "cells": [
  {
   "cell_type": "code",
   "execution_count": 1,
   "metadata": {},
   "outputs": [],
   "source": [
    "import csv\n",
    "from loaders import read_data\n",
    "from helpers import display_rows, count\n",
    "\n",
    "import pandas as pd\n",
    "import matplotlib.pyplot as plt\n",
    "import numpy as np"
   ]
  },
  {
   "cell_type": "markdown",
   "metadata": {},
   "source": [
    "# Your Goal\n",
    "\n",
    "Find the top 3 movies of all time, and convince someone why they're the top 3. These rankings should reflect, to some extent, artistry, popular appeal, and success. You might have to look at the data and think about quality in a few different ways to make a compelling case. You should consider including visuals and tables to make your case.\n",
    "\n",
    "Use any libraries you'd like, but don't feel the need to use libraries if something simple will do. We've already loaded `pd` for R-style data manipulation, `plt` for making graphs, and `np` for more complex statistics."
   ]
  },
  {
   "cell_type": "markdown",
   "metadata": {},
   "source": [
    "# Starter Code"
   ]
  },
  {
   "cell_type": "markdown",
   "metadata": {},
   "source": [
    "## Loading the data"
   ]
  },
  {
   "cell_type": "markdown",
   "metadata": {},
   "source": [
    "Here is the data as a list of dictionaries..."
   ]
  },
  {
   "cell_type": "code",
   "execution_count": 2,
   "metadata": {},
   "outputs": [],
   "source": [
    "movies = read_data('input/350k_movies_themoviedb.csv', encoding=\"latin1\")"
   ]
  },
  {
   "cell_type": "markdown",
   "metadata": {},
   "source": [
    "Or, if you feel more comfortable using Pandas dataframes..."
   ]
  },
  {
   "cell_type": "code",
   "execution_count": 3,
   "metadata": {},
   "outputs": [],
   "source": [
    "movies_df = pd.DataFrame.from_records(movies)"
   ]
  },
  {
   "cell_type": "markdown",
   "metadata": {},
   "source": [
    "## Manipulating data"
   ]
  },
  {
   "cell_type": "markdown",
   "metadata": {},
   "source": [
    "Compute common descriptive statistics like min, max, average, and standard deviation like so:"
   ]
  },
  {
   "cell_type": "code",
   "execution_count": 4,
   "metadata": {},
   "outputs": [
    {
     "name": "stdout",
     "output_type": "stream",
     "text": [
      "Min revenue: -12.0 Max revenue: 2781505847.0 Avg revenue: 1533838.119567596 Stddev revenue: 24018873.924453795\n"
     ]
    }
   ],
   "source": [
    "revenues = [m['revenue'] for m in movies]\n",
    "min_revenue = min(revenues)\n",
    "max_revenue = max(revenues)\n",
    "avg_revenue = np.mean(revenues)\n",
    "stddev_revenue = np.std(revenues)\n",
    "print(\"Min revenue:\", min_revenue, \"Max revenue:\", max_revenue, \"Avg revenue:\", avg_revenue, \"Stddev revenue:\", stddev_revenue)"
   ]
  },
  {
   "cell_type": "markdown",
   "metadata": {},
   "source": [
    "And sort the data with the `sorted` function"
   ]
  },
  {
   "cell_type": "code",
   "execution_count": 5,
   "metadata": {},
   "outputs": [
    {
     "name": "stdout",
     "output_type": "stream",
     "text": [
      "Movies with top revenue: ['Avatar', 'Star Wars: The Force Awakens', 'Titanic', 'The Avengers', 'Jurassic World']\n"
     ]
    }
   ],
   "source": [
    "sorted_movies = sorted(movies, key=lambda m: m['revenue'], reverse=True)\n",
    "print(\"Movies with top revenue:\", [m['title'] for m in sorted_movies][:5])"
   ]
  },
  {
   "cell_type": "markdown",
   "metadata": {},
   "source": [
    "## Viewing the data"
   ]
  },
  {
   "cell_type": "markdown",
   "metadata": {},
   "source": [
    "### Tabular data\n",
    "\n",
    "It might be helpful to use the `display_rows` helper function to show some of the data"
   ]
  },
  {
   "cell_type": "code",
   "execution_count": 6,
   "metadata": {},
   "outputs": [
    {
     "data": {
      "text/html": [
       "<table>\n",
       "<thead>\n",
       "<tr><th style=\"text-align: right;\">  budget</th><th>genres             </th><th>original_language  </th><th>original_title      </th><th>production_companies       </th><th>production_countries  </th><th style=\"text-align: right;\">  revenue</th><th>spoken_languages  </th><th>tagline  </th><th>title              </th><th style=\"text-align: right;\">  vote_average</th><th style=\"text-align: right;\">  vote_count</th><th style=\"text-align: right;\">  spoken_languages_number</th><th style=\"text-align: right;\">  runtime</th><th style=\"text-align: right;\">  popularity</th><th style=\"text-align: right;\">  release_day</th><th style=\"text-align: right;\">  release_month</th><th style=\"text-align: right;\">  release_year</th></tr>\n",
       "</thead>\n",
       "<tbody>\n",
       "<tr><td style=\"text-align: right;\">       0</td><td>['Drama', 'Crime'] </td><td>fi                 </td><td>Ariel               </td><td>Villealfa Filmproduction Oy</td><td>Finland               </td><td style=\"text-align: right;\">        0</td><td>suomi             </td><td>         </td><td>Ariel              </td><td style=\"text-align: right;\">           7.1</td><td style=\"text-align: right;\">          40</td><td style=\"text-align: right;\">                        2</td><td style=\"text-align: right;\">       69</td><td style=\"text-align: right;\">    0.823904</td><td style=\"text-align: right;\">           10</td><td style=\"text-align: right;\">             21</td><td style=\"text-align: right;\">          1988</td></tr>\n",
       "<tr><td style=\"text-align: right;\">       0</td><td>['Drama', 'Comedy']</td><td>fi                 </td><td>Varjoja paratiisissa</td><td>Villealfa Filmproduction Oy</td><td>Finland               </td><td style=\"text-align: right;\">        0</td><td>English           </td><td>         </td><td>Shadows in Paradise</td><td style=\"text-align: right;\">           7  </td><td style=\"text-align: right;\">          32</td><td style=\"text-align: right;\">                        3</td><td style=\"text-align: right;\">       76</td><td style=\"text-align: right;\">    0.47445 </td><td style=\"text-align: right;\">           10</td><td style=\"text-align: right;\">             16</td><td style=\"text-align: right;\">          1986</td></tr>\n",
       "</tbody>\n",
       "</table>"
      ],
      "text/plain": [
       "<IPython.core.display.HTML object>"
      ]
     },
     "metadata": {},
     "output_type": "display_data"
    }
   ],
   "source": [
    "display_rows(movies, 2, hide=['overview'])"
   ]
  },
  {
   "cell_type": "markdown",
   "metadata": {},
   "source": [
    "### Categorical data\n",
    "\n",
    "You can use the `count` helper with `barplot` to plot categorical data"
   ]
  },
  {
   "cell_type": "code",
   "execution_count": 7,
   "metadata": {},
   "outputs": [
    {
     "data": {
      "text/plain": [
       "<BarContainer object of 144 artists>"
      ]
     },
     "execution_count": 7,
     "metadata": {},
     "output_type": "execute_result"
    },
    {
     "data": {
      "image/png": "[encoded data removed]",
      "text/plain": [
       "<Figure size 432x288 with 1 Axes>"
      ]
     },
     "metadata": {},
     "output_type": "display_data"
    }
   ],
   "source": [
    "years, counts = count([m['release_year'] for m in movies])\n",
    "plt.bar(years, counts)"
   ]
  },
  {
   "cell_type": "markdown",
   "metadata": {},
   "source": [
    "### Numerical data\n",
    "\n",
    "You can use the `hist` method on plt..."
   ]
  },
  {
   "cell_type": "code",
   "execution_count": 8,
   "metadata": {
    "scrolled": false
   },
   "outputs": [
    {
     "data": {
      "text/plain": [
       "(array([3.28609e+05, 2.96000e+02, 8.30000e+01, 4.00000e+01, 9.00000e+00,\n",
       "        4.00000e+00, 1.00000e+00, 1.00000e+00, 0.00000e+00, 1.00000e+00]),\n",
       " array([-1.20000000e+01,  2.78150574e+08,  5.56301160e+08,  8.34451746e+08,\n",
       "         1.11260233e+09,  1.39075292e+09,  1.66890350e+09,  1.94705409e+09,\n",
       "         2.22520468e+09,  2.50335526e+09,  2.78150585e+09]),\n",
       " <a list of 10 Patch objects>)"
      ]
     },
     "execution_count": 8,
     "metadata": {},
     "output_type": "execute_result"
    },
    {
     "data": {
      "image/png": "[encoded data removed]",
      "text/plain": [
       "<Figure size 432x288 with 1 Axes>"
      ]
     },
     "metadata": {},
     "output_type": "display_data"
    }
   ],
   "source": [
    "revenues = [m['revenue'] for m in movies if m != 0]\n",
    "plt.hist(revenues, bins=10, log=True)"
   ]
  },
  {
   "cell_type": "markdown",
   "metadata": {},
   "source": [
    "Or `boxplot`..."
   ]
  },
  {
   "cell_type": "code",
   "execution_count": 9,
   "metadata": {},
   "outputs": [
    {
     "data": {
      "text/plain": [
       "{'whiskers': [<matplotlib.lines.Line2D at 0x12b2e3438>,\n",
       "  <matplotlib.lines.Line2D at 0x12b2e38d0>],\n",
       " 'caps': [<matplotlib.lines.Line2D at 0x12b2e3cf8>,\n",
       "  <matplotlib.lines.Line2D at 0x12b580160>],\n",
       " 'boxes': [<matplotlib.lines.Line2D at 0x12b2e32e8>],\n",
       " 'medians': [<matplotlib.lines.Line2D at 0x12b580588>],\n",
       " 'fliers': [<matplotlib.lines.Line2D at 0x12b5809b0>],\n",
       " 'means': []}"
      ]
     },
     "execution_count": 9,
     "metadata": {},
     "output_type": "execute_result"
    },
    {
     "data": {
      "image/png": "[encoded data removed]",
      "text/plain": [
       "<Figure size 432x288 with 1 Axes>"
      ]
     },
     "metadata": {},
     "output_type": "display_data"
    }
   ],
   "source": [
    "plt.boxplot(revenues, vert=False)"
   ]
  },
  {
   "cell_type": "code",
   "execution_count": null,
   "metadata": {},
   "outputs": [],
   "source": []
  }
 ],
 "metadata": {
  "gatheringId": "284426b2ea6040959f536ff67a9fbe51",
  "kernelspec": {
   "display_name": "Python 3",
   "language": "python",
   "name": "python3"
  },
  "language_info": {
   "codemirror_mode": {
    "name": "ipython",
    "version": 3
   },
   "file_extension": ".py",
   "mimetype": "text/x-python",
   "name": "python",
   "nbconvert_exporter": "python",
   "pygments_lexer": "ipython3",
   "version": "3.6.6"
  }
 },
 "nbformat": 4,
 "nbformat_minor": 2
}
